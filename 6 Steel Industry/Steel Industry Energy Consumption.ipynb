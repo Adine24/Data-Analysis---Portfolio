{
 "cells": [
  {
   "cell_type": "markdown",
   "id": "d4fa019d",
   "metadata": {},
   "source": [
    "# Contents"
   ]
  },
  {
   "cell_type": "markdown",
   "id": "de737b44",
   "metadata": {},
   "source": [
    "### Import Librabries"
   ]
  },
  {
   "cell_type": "code",
   "execution_count": 1,
   "id": "7e39e550",
   "metadata": {},
   "outputs": [],
   "source": [
    "import numpy as np\n",
    "import pandas as pd\n",
    "import datetime as dt\n",
    "import calendar as cl"
   ]
  },
  {
   "cell_type": "code",
   "execution_count": 2,
   "id": "11e64e26",
   "metadata": {},
   "outputs": [],
   "source": [
    "pd.plotting.register_matplotlib_converters()\n",
    "import matplotlib.pyplot as plt\n",
    "%matplotlib inline\n",
    "import seaborn as sns"
   ]
  },
  {
   "cell_type": "markdown",
   "id": "7968d5cc",
   "metadata": {},
   "source": [
    "### Energy Consumption EDA"
   ]
  },
  {
   "cell_type": "markdown",
   "id": "dc18e56c",
   "metadata": {},
   "source": [
    "#### Brief info on dataset\n",
    "   * This company produces several types of coils, steel plates, and iron plates. The information on electricity           consumption is held in a cloud-based system. The information on energy consumption of the industry is stored on the website of the Korea Electric Power Corporation (pccs.kepco.go.kr), and the perspectives on daily, monthly, and annual data are calculated and shown.\n",
    "        * From the data we can tell-\n",
    "            * Which times of the year is the most energy consumed?\n",
    "            * What patterns can we identify in energy usage?"
   ]
  },
  {
   "cell_type": "markdown",
   "id": "0922ac95",
   "metadata": {},
   "source": [
    "### Load dataset into a dataframe and view first 5 rows"
   ]
  },
  {
   "cell_type": "code",
   "execution_count": 3,
   "id": "f63f2956",
   "metadata": {},
   "outputs": [],
   "source": [
    "# read dataset into df variable\n",
    "\n",
    "df = pd.read_csv('Steel_industry_data.csv')"
   ]
  },
  {
   "cell_type": "code",
   "execution_count": 4,
   "id": "5727d6dc",
   "metadata": {},
   "outputs": [
    {
     "data": {
      "text/html": [
       "<div>\n",
       "<style scoped>\n",
       "    .dataframe tbody tr th:only-of-type {\n",
       "        vertical-align: middle;\n",
       "    }\n",
       "\n",
       "    .dataframe tbody tr th {\n",
       "        vertical-align: top;\n",
       "    }\n",
       "\n",
       "    .dataframe thead th {\n",
       "        text-align: right;\n",
       "    }\n",
       "</style>\n",
       "<table border=\"1\" class=\"dataframe\">\n",
       "  <thead>\n",
       "    <tr style=\"text-align: right;\">\n",
       "      <th></th>\n",
       "      <th>date</th>\n",
       "      <th>Usage_kWh</th>\n",
       "      <th>Lagging_Current_Reactive.Power_kVarh</th>\n",
       "      <th>Leading_Current_Reactive_Power_kVarh</th>\n",
       "      <th>CO2(tCO2)</th>\n",
       "      <th>Lagging_Current_Power_Factor</th>\n",
       "      <th>Leading_Current_Power_Factor</th>\n",
       "      <th>NSM</th>\n",
       "      <th>WeekStatus</th>\n",
       "      <th>Day_of_week</th>\n",
       "      <th>Load_Type</th>\n",
       "    </tr>\n",
       "  </thead>\n",
       "  <tbody>\n",
       "    <tr>\n",
       "      <th>0</th>\n",
       "      <td>01/01/2018 00:15</td>\n",
       "      <td>3.17</td>\n",
       "      <td>2.95</td>\n",
       "      <td>0.0</td>\n",
       "      <td>0.0</td>\n",
       "      <td>73.21</td>\n",
       "      <td>100.0</td>\n",
       "      <td>900</td>\n",
       "      <td>Weekday</td>\n",
       "      <td>Monday</td>\n",
       "      <td>Light_Load</td>\n",
       "    </tr>\n",
       "    <tr>\n",
       "      <th>1</th>\n",
       "      <td>01/01/2018 00:30</td>\n",
       "      <td>4.00</td>\n",
       "      <td>4.46</td>\n",
       "      <td>0.0</td>\n",
       "      <td>0.0</td>\n",
       "      <td>66.77</td>\n",
       "      <td>100.0</td>\n",
       "      <td>1800</td>\n",
       "      <td>Weekday</td>\n",
       "      <td>Monday</td>\n",
       "      <td>Light_Load</td>\n",
       "    </tr>\n",
       "    <tr>\n",
       "      <th>2</th>\n",
       "      <td>01/01/2018 00:45</td>\n",
       "      <td>3.24</td>\n",
       "      <td>3.28</td>\n",
       "      <td>0.0</td>\n",
       "      <td>0.0</td>\n",
       "      <td>70.28</td>\n",
       "      <td>100.0</td>\n",
       "      <td>2700</td>\n",
       "      <td>Weekday</td>\n",
       "      <td>Monday</td>\n",
       "      <td>Light_Load</td>\n",
       "    </tr>\n",
       "    <tr>\n",
       "      <th>3</th>\n",
       "      <td>01/01/2018 01:00</td>\n",
       "      <td>3.31</td>\n",
       "      <td>3.56</td>\n",
       "      <td>0.0</td>\n",
       "      <td>0.0</td>\n",
       "      <td>68.09</td>\n",
       "      <td>100.0</td>\n",
       "      <td>3600</td>\n",
       "      <td>Weekday</td>\n",
       "      <td>Monday</td>\n",
       "      <td>Light_Load</td>\n",
       "    </tr>\n",
       "    <tr>\n",
       "      <th>4</th>\n",
       "      <td>01/01/2018 01:15</td>\n",
       "      <td>3.82</td>\n",
       "      <td>4.50</td>\n",
       "      <td>0.0</td>\n",
       "      <td>0.0</td>\n",
       "      <td>64.72</td>\n",
       "      <td>100.0</td>\n",
       "      <td>4500</td>\n",
       "      <td>Weekday</td>\n",
       "      <td>Monday</td>\n",
       "      <td>Light_Load</td>\n",
       "    </tr>\n",
       "  </tbody>\n",
       "</table>\n",
       "</div>"
      ],
      "text/plain": [
       "               date  Usage_kWh  Lagging_Current_Reactive.Power_kVarh  \\\n",
       "0  01/01/2018 00:15       3.17                                  2.95   \n",
       "1  01/01/2018 00:30       4.00                                  4.46   \n",
       "2  01/01/2018 00:45       3.24                                  3.28   \n",
       "3  01/01/2018 01:00       3.31                                  3.56   \n",
       "4  01/01/2018 01:15       3.82                                  4.50   \n",
       "\n",
       "   Leading_Current_Reactive_Power_kVarh  CO2(tCO2)  \\\n",
       "0                                   0.0        0.0   \n",
       "1                                   0.0        0.0   \n",
       "2                                   0.0        0.0   \n",
       "3                                   0.0        0.0   \n",
       "4                                   0.0        0.0   \n",
       "\n",
       "   Lagging_Current_Power_Factor  Leading_Current_Power_Factor   NSM  \\\n",
       "0                         73.21                         100.0   900   \n",
       "1                         66.77                         100.0  1800   \n",
       "2                         70.28                         100.0  2700   \n",
       "3                         68.09                         100.0  3600   \n",
       "4                         64.72                         100.0  4500   \n",
       "\n",
       "  WeekStatus Day_of_week   Load_Type  \n",
       "0    Weekday      Monday  Light_Load  \n",
       "1    Weekday      Monday  Light_Load  \n",
       "2    Weekday      Monday  Light_Load  \n",
       "3    Weekday      Monday  Light_Load  \n",
       "4    Weekday      Monday  Light_Load  "
      ]
     },
     "execution_count": 4,
     "metadata": {},
     "output_type": "execute_result"
    }
   ],
   "source": [
    "# view first 5 rows\n",
    "\n",
    "df.head()"
   ]
  },
  {
   "cell_type": "markdown",
   "id": "adac697c",
   "metadata": {},
   "source": [
    "### Look at dataset info, shape and summary of values described"
   ]
  },
  {
   "cell_type": "code",
   "execution_count": 5,
   "id": "707d7cc4",
   "metadata": {
    "scrolled": true
   },
   "outputs": [
    {
     "data": {
      "text/plain": [
       "(35040, 11)"
      ]
     },
     "execution_count": 5,
     "metadata": {},
     "output_type": "execute_result"
    }
   ],
   "source": [
    "# view number of rows, columns\n",
    "\n",
    "df.shape"
   ]
  },
  {
   "cell_type": "code",
   "execution_count": 6,
   "id": "6bef4f68",
   "metadata": {
    "scrolled": true
   },
   "outputs": [
    {
     "name": "stdout",
     "output_type": "stream",
     "text": [
      "<class 'pandas.core.frame.DataFrame'>\n",
      "RangeIndex: 35040 entries, 0 to 35039\n",
      "Data columns (total 11 columns):\n",
      " #   Column                                Non-Null Count  Dtype  \n",
      "---  ------                                --------------  -----  \n",
      " 0   date                                  35040 non-null  object \n",
      " 1   Usage_kWh                             35040 non-null  float64\n",
      " 2   Lagging_Current_Reactive.Power_kVarh  35040 non-null  float64\n",
      " 3   Leading_Current_Reactive_Power_kVarh  35040 non-null  float64\n",
      " 4   CO2(tCO2)                             35040 non-null  float64\n",
      " 5   Lagging_Current_Power_Factor          35040 non-null  float64\n",
      " 6   Leading_Current_Power_Factor          35040 non-null  float64\n",
      " 7   NSM                                   35040 non-null  int64  \n",
      " 8   WeekStatus                            35040 non-null  object \n",
      " 9   Day_of_week                           35040 non-null  object \n",
      " 10  Load_Type                             35040 non-null  object \n",
      "dtypes: float64(6), int64(1), object(4)\n",
      "memory usage: 2.9+ MB\n"
     ]
    }
   ],
   "source": [
    "# Gives brief information about the dataset\n",
    "\n",
    "df.info()"
   ]
  },
  {
   "cell_type": "markdown",
   "id": "a1ebcd03",
   "metadata": {},
   "source": [
    "### Convert date column to datetime format"
   ]
  },
  {
   "cell_type": "code",
   "execution_count": 7,
   "id": "82106701",
   "metadata": {},
   "outputs": [],
   "source": [
    "# converts date column to datetime\n",
    "\n",
    "df['date'] = pd.to_datetime(df['date'], format='%d/%m/%Y %H:%M')"
   ]
  },
  {
   "cell_type": "code",
   "execution_count": 8,
   "id": "4e043d6b",
   "metadata": {},
   "outputs": [
    {
     "data": {
      "text/html": [
       "<div>\n",
       "<style scoped>\n",
       "    .dataframe tbody tr th:only-of-type {\n",
       "        vertical-align: middle;\n",
       "    }\n",
       "\n",
       "    .dataframe tbody tr th {\n",
       "        vertical-align: top;\n",
       "    }\n",
       "\n",
       "    .dataframe thead th {\n",
       "        text-align: right;\n",
       "    }\n",
       "</style>\n",
       "<table border=\"1\" class=\"dataframe\">\n",
       "  <thead>\n",
       "    <tr style=\"text-align: right;\">\n",
       "      <th></th>\n",
       "      <th>date</th>\n",
       "      <th>Usage_kWh</th>\n",
       "      <th>Lagging_Current_Reactive.Power_kVarh</th>\n",
       "      <th>Leading_Current_Reactive_Power_kVarh</th>\n",
       "      <th>CO2(tCO2)</th>\n",
       "      <th>Lagging_Current_Power_Factor</th>\n",
       "      <th>Leading_Current_Power_Factor</th>\n",
       "      <th>NSM</th>\n",
       "      <th>WeekStatus</th>\n",
       "      <th>Day_of_week</th>\n",
       "      <th>Load_Type</th>\n",
       "    </tr>\n",
       "  </thead>\n",
       "  <tbody>\n",
       "    <tr>\n",
       "      <th>0</th>\n",
       "      <td>2018-01-01 00:15:00</td>\n",
       "      <td>3.17</td>\n",
       "      <td>2.95</td>\n",
       "      <td>0.0</td>\n",
       "      <td>0.0</td>\n",
       "      <td>73.21</td>\n",
       "      <td>100.0</td>\n",
       "      <td>900</td>\n",
       "      <td>Weekday</td>\n",
       "      <td>Monday</td>\n",
       "      <td>Light_Load</td>\n",
       "    </tr>\n",
       "  </tbody>\n",
       "</table>\n",
       "</div>"
      ],
      "text/plain": [
       "                 date  Usage_kWh  Lagging_Current_Reactive.Power_kVarh  \\\n",
       "0 2018-01-01 00:15:00       3.17                                  2.95   \n",
       "\n",
       "   Leading_Current_Reactive_Power_kVarh  CO2(tCO2)  \\\n",
       "0                                   0.0        0.0   \n",
       "\n",
       "   Lagging_Current_Power_Factor  Leading_Current_Power_Factor  NSM WeekStatus  \\\n",
       "0                         73.21                         100.0  900    Weekday   \n",
       "\n",
       "  Day_of_week   Load_Type  \n",
       "0      Monday  Light_Load  "
      ]
     },
     "execution_count": 8,
     "metadata": {},
     "output_type": "execute_result"
    }
   ],
   "source": [
    "# view data\n",
    "df.head(1)"
   ]
  },
  {
   "cell_type": "markdown",
   "id": "c64a5387",
   "metadata": {},
   "source": [
    "### Check for null values"
   ]
  },
  {
   "cell_type": "code",
   "execution_count": 9,
   "id": "f3f7f9ce",
   "metadata": {
    "scrolled": true
   },
   "outputs": [
    {
     "data": {
      "text/plain": [
       "date                                    0\n",
       "Usage_kWh                               0\n",
       "Lagging_Current_Reactive.Power_kVarh    0\n",
       "Leading_Current_Reactive_Power_kVarh    0\n",
       "CO2(tCO2)                               0\n",
       "Lagging_Current_Power_Factor            0\n",
       "Leading_Current_Power_Factor            0\n",
       "NSM                                     0\n",
       "WeekStatus                              0\n",
       "Day_of_week                             0\n",
       "Load_Type                               0\n",
       "dtype: int64"
      ]
     },
     "execution_count": 9,
     "metadata": {},
     "output_type": "execute_result"
    }
   ],
   "source": [
    "# checks row and columns for null values and sums if any\n",
    "df.isnull().sum()"
   ]
  },
  {
   "cell_type": "markdown",
   "id": "425343a4",
   "metadata": {},
   "source": [
    "### Extract Year, Month, Day and Hour from Date Column"
   ]
  },
  {
   "cell_type": "code",
   "execution_count": 10,
   "id": "132ee4ca",
   "metadata": {},
   "outputs": [],
   "source": [
    "# Extract the year, month and hour from date column\n",
    "df['Year'] = df['date'].dt.year # extracts year\n",
    "df['Month'] = df['date'].dt.month.apply(lambda x: cl.month_abbr[x]) # extracts month\n",
    "df['Hour'] = df['date'].dt.hour  # extracts hour"
   ]
  },
  {
   "cell_type": "code",
   "execution_count": 11,
   "id": "1525d1e6",
   "metadata": {},
   "outputs": [
    {
     "data": {
      "text/html": [
       "<div>\n",
       "<style scoped>\n",
       "    .dataframe tbody tr th:only-of-type {\n",
       "        vertical-align: middle;\n",
       "    }\n",
       "\n",
       "    .dataframe tbody tr th {\n",
       "        vertical-align: top;\n",
       "    }\n",
       "\n",
       "    .dataframe thead th {\n",
       "        text-align: right;\n",
       "    }\n",
       "</style>\n",
       "<table border=\"1\" class=\"dataframe\">\n",
       "  <thead>\n",
       "    <tr style=\"text-align: right;\">\n",
       "      <th></th>\n",
       "      <th>date</th>\n",
       "      <th>Usage_kWh</th>\n",
       "      <th>Lagging_Current_Reactive.Power_kVarh</th>\n",
       "      <th>Leading_Current_Reactive_Power_kVarh</th>\n",
       "      <th>CO2(tCO2)</th>\n",
       "      <th>Lagging_Current_Power_Factor</th>\n",
       "      <th>Leading_Current_Power_Factor</th>\n",
       "      <th>NSM</th>\n",
       "      <th>WeekStatus</th>\n",
       "      <th>Day_of_week</th>\n",
       "      <th>Load_Type</th>\n",
       "      <th>Year</th>\n",
       "      <th>Month</th>\n",
       "      <th>Hour</th>\n",
       "    </tr>\n",
       "  </thead>\n",
       "  <tbody>\n",
       "    <tr>\n",
       "      <th>21166</th>\n",
       "      <td>2018-08-09 11:45:00</td>\n",
       "      <td>103.72</td>\n",
       "      <td>61.78</td>\n",
       "      <td>0.0</td>\n",
       "      <td>0.05</td>\n",
       "      <td>85.91</td>\n",
       "      <td>100.0</td>\n",
       "      <td>42300</td>\n",
       "      <td>Weekday</td>\n",
       "      <td>Thursday</td>\n",
       "      <td>Maximum_Load</td>\n",
       "      <td>2018</td>\n",
       "      <td>Aug</td>\n",
       "      <td>11</td>\n",
       "    </tr>\n",
       "    <tr>\n",
       "      <th>8972</th>\n",
       "      <td>2018-04-04 11:15:00</td>\n",
       "      <td>46.84</td>\n",
       "      <td>31.36</td>\n",
       "      <td>0.0</td>\n",
       "      <td>0.02</td>\n",
       "      <td>83.10</td>\n",
       "      <td>100.0</td>\n",
       "      <td>40500</td>\n",
       "      <td>Weekday</td>\n",
       "      <td>Wednesday</td>\n",
       "      <td>Maximum_Load</td>\n",
       "      <td>2018</td>\n",
       "      <td>Apr</td>\n",
       "      <td>11</td>\n",
       "    </tr>\n",
       "    <tr>\n",
       "      <th>10556</th>\n",
       "      <td>2018-04-20 23:15:00</td>\n",
       "      <td>3.46</td>\n",
       "      <td>3.49</td>\n",
       "      <td>0.0</td>\n",
       "      <td>0.00</td>\n",
       "      <td>70.40</td>\n",
       "      <td>100.0</td>\n",
       "      <td>83700</td>\n",
       "      <td>Weekday</td>\n",
       "      <td>Friday</td>\n",
       "      <td>Light_Load</td>\n",
       "      <td>2018</td>\n",
       "      <td>Apr</td>\n",
       "      <td>23</td>\n",
       "    </tr>\n",
       "    <tr>\n",
       "      <th>9809</th>\n",
       "      <td>2018-04-13 04:30:00</td>\n",
       "      <td>4.25</td>\n",
       "      <td>6.62</td>\n",
       "      <td>0.0</td>\n",
       "      <td>0.00</td>\n",
       "      <td>54.02</td>\n",
       "      <td>100.0</td>\n",
       "      <td>16200</td>\n",
       "      <td>Weekday</td>\n",
       "      <td>Friday</td>\n",
       "      <td>Light_Load</td>\n",
       "      <td>2018</td>\n",
       "      <td>Apr</td>\n",
       "      <td>4</td>\n",
       "    </tr>\n",
       "    <tr>\n",
       "      <th>14334</th>\n",
       "      <td>2018-05-30 07:45:00</td>\n",
       "      <td>3.82</td>\n",
       "      <td>4.97</td>\n",
       "      <td>0.0</td>\n",
       "      <td>0.00</td>\n",
       "      <td>60.94</td>\n",
       "      <td>100.0</td>\n",
       "      <td>27900</td>\n",
       "      <td>Weekday</td>\n",
       "      <td>Wednesday</td>\n",
       "      <td>Light_Load</td>\n",
       "      <td>2018</td>\n",
       "      <td>May</td>\n",
       "      <td>7</td>\n",
       "    </tr>\n",
       "  </tbody>\n",
       "</table>\n",
       "</div>"
      ],
      "text/plain": [
       "                     date  Usage_kWh  Lagging_Current_Reactive.Power_kVarh  \\\n",
       "21166 2018-08-09 11:45:00     103.72                                 61.78   \n",
       "8972  2018-04-04 11:15:00      46.84                                 31.36   \n",
       "10556 2018-04-20 23:15:00       3.46                                  3.49   \n",
       "9809  2018-04-13 04:30:00       4.25                                  6.62   \n",
       "14334 2018-05-30 07:45:00       3.82                                  4.97   \n",
       "\n",
       "       Leading_Current_Reactive_Power_kVarh  CO2(tCO2)  \\\n",
       "21166                                   0.0       0.05   \n",
       "8972                                    0.0       0.02   \n",
       "10556                                   0.0       0.00   \n",
       "9809                                    0.0       0.00   \n",
       "14334                                   0.0       0.00   \n",
       "\n",
       "       Lagging_Current_Power_Factor  Leading_Current_Power_Factor    NSM  \\\n",
       "21166                         85.91                         100.0  42300   \n",
       "8972                          83.10                         100.0  40500   \n",
       "10556                         70.40                         100.0  83700   \n",
       "9809                          54.02                         100.0  16200   \n",
       "14334                         60.94                         100.0  27900   \n",
       "\n",
       "      WeekStatus Day_of_week     Load_Type  Year Month  Hour  \n",
       "21166    Weekday    Thursday  Maximum_Load  2018   Aug    11  \n",
       "8972     Weekday   Wednesday  Maximum_Load  2018   Apr    11  \n",
       "10556    Weekday      Friday    Light_Load  2018   Apr    23  \n",
       "9809     Weekday      Friday    Light_Load  2018   Apr     4  \n",
       "14334    Weekday   Wednesday    Light_Load  2018   May     7  "
      ]
     },
     "execution_count": 11,
     "metadata": {},
     "output_type": "execute_result"
    }
   ],
   "source": [
    "# view random rows from dataset\n",
    "df.sample(n=5)"
   ]
  },
  {
   "cell_type": "markdown",
   "id": "0818a061",
   "metadata": {},
   "source": [
    "### Check for dupliacted rows"
   ]
  },
  {
   "cell_type": "code",
   "execution_count": 12,
   "id": "50c761b6",
   "metadata": {
    "scrolled": true
   },
   "outputs": [
    {
     "data": {
      "text/plain": [
       "0"
      ]
     },
     "execution_count": 12,
     "metadata": {},
     "output_type": "execute_result"
    }
   ],
   "source": [
    "# checks if any row is duplicated\n",
    "\n",
    "df.duplicated().sum()"
   ]
  },
  {
   "cell_type": "markdown",
   "id": "9112850d",
   "metadata": {},
   "source": [
    "### Creating a sort order for Day of week , Month and Week"
   ]
  },
  {
   "cell_type": "code",
   "execution_count": 13,
   "id": "5c9c6e5c",
   "metadata": {},
   "outputs": [],
   "source": [
    "# define custom order for days of the week and month\n",
    "\n",
    "day_order = ['Monday', 'Tuesday', 'Wednesday', 'Thursday', 'Friday', 'Saturday', 'Sunday']\n",
    "\n",
    "month_order =  ['Jan', 'Feb', 'Mar', 'Apr', 'May', 'Jun', 'Jul', 'Aug', 'Sep', 'Oct', 'Nov', 'Dec']\n",
    "\n",
    "# define custom order for week status\n",
    "week_status_order = ['Weekday', 'Weekend']"
   ]
  },
  {
   "cell_type": "code",
   "execution_count": 14,
   "id": "0c095a27",
   "metadata": {},
   "outputs": [],
   "source": [
    "# sort 'Day_of_week' column based on custom order\n",
    "\n",
    "df['Day_of_week'] = pd.Categorical(df['Day_of_week'], categories=day_order, ordered=True)\n",
    "\n",
    "# sort 'Month' column based on custom order\n",
    "\n",
    "df['Month'] = pd.Categorical(df['Month'], categories=month_order, ordered=True)\n",
    "\n",
    "# sort 'WeekStatus' column based on custom order\n",
    "df['WeekStatus'] = pd.Categorical(df['WeekStatus'], categories=week_status_order, ordered=True)"
   ]
  },
  {
   "cell_type": "markdown",
   "id": "62a836f1",
   "metadata": {},
   "source": [
    "### Check for inconsistencies in text columns"
   ]
  },
  {
   "cell_type": "code",
   "execution_count": 15,
   "id": "4837c144",
   "metadata": {
    "scrolled": false
   },
   "outputs": [
    {
     "data": {
      "text/html": [
       "<div>\n",
       "<style scoped>\n",
       "    .dataframe tbody tr th:only-of-type {\n",
       "        vertical-align: middle;\n",
       "    }\n",
       "\n",
       "    .dataframe tbody tr th {\n",
       "        vertical-align: top;\n",
       "    }\n",
       "\n",
       "    .dataframe thead th {\n",
       "        text-align: right;\n",
       "    }\n",
       "</style>\n",
       "<table border=\"1\" class=\"dataframe\">\n",
       "  <thead>\n",
       "    <tr style=\"text-align: right;\">\n",
       "      <th></th>\n",
       "      <th></th>\n",
       "      <th></th>\n",
       "      <th>date</th>\n",
       "    </tr>\n",
       "    <tr>\n",
       "      <th>WeekStatus</th>\n",
       "      <th>Day_of_week</th>\n",
       "      <th>Load_Type</th>\n",
       "      <th></th>\n",
       "    </tr>\n",
       "  </thead>\n",
       "  <tbody>\n",
       "    <tr>\n",
       "      <th rowspan=\"15\" valign=\"top\">Weekday</th>\n",
       "      <th rowspan=\"3\" valign=\"top\">Monday</th>\n",
       "      <th>Light_Load</th>\n",
       "      <td>2288</td>\n",
       "    </tr>\n",
       "    <tr>\n",
       "      <th>Maximum_Load</th>\n",
       "      <td>1200</td>\n",
       "    </tr>\n",
       "    <tr>\n",
       "      <th>Medium_Load</th>\n",
       "      <td>1600</td>\n",
       "    </tr>\n",
       "    <tr>\n",
       "      <th rowspan=\"3\" valign=\"top\">Tuesday</th>\n",
       "      <th>Light_Load</th>\n",
       "      <td>2248</td>\n",
       "    </tr>\n",
       "    <tr>\n",
       "      <th>Maximum_Load</th>\n",
       "      <td>1176</td>\n",
       "    </tr>\n",
       "    <tr>\n",
       "      <th>Medium_Load</th>\n",
       "      <td>1568</td>\n",
       "    </tr>\n",
       "    <tr>\n",
       "      <th rowspan=\"3\" valign=\"top\">Wednesday</th>\n",
       "      <th>Light_Load</th>\n",
       "      <td>2248</td>\n",
       "    </tr>\n",
       "    <tr>\n",
       "      <th>Maximum_Load</th>\n",
       "      <td>1176</td>\n",
       "    </tr>\n",
       "    <tr>\n",
       "      <th>Medium_Load</th>\n",
       "      <td>1568</td>\n",
       "    </tr>\n",
       "    <tr>\n",
       "      <th rowspan=\"3\" valign=\"top\">Thursday</th>\n",
       "      <th>Light_Load</th>\n",
       "      <td>2192</td>\n",
       "    </tr>\n",
       "    <tr>\n",
       "      <th>Maximum_Load</th>\n",
       "      <td>1200</td>\n",
       "    </tr>\n",
       "    <tr>\n",
       "      <th>Medium_Load</th>\n",
       "      <td>1600</td>\n",
       "    </tr>\n",
       "    <tr>\n",
       "      <th rowspan=\"3\" valign=\"top\">Friday</th>\n",
       "      <th>Light_Load</th>\n",
       "      <td>2192</td>\n",
       "    </tr>\n",
       "    <tr>\n",
       "      <th>Maximum_Load</th>\n",
       "      <td>1200</td>\n",
       "    </tr>\n",
       "    <tr>\n",
       "      <th>Medium_Load</th>\n",
       "      <td>1600</td>\n",
       "    </tr>\n",
       "    <tr>\n",
       "      <th rowspan=\"6\" valign=\"top\">Weekend</th>\n",
       "      <th rowspan=\"3\" valign=\"top\">Saturday</th>\n",
       "      <th>Light_Load</th>\n",
       "      <td>2864</td>\n",
       "    </tr>\n",
       "    <tr>\n",
       "      <th>Maximum_Load</th>\n",
       "      <td>912</td>\n",
       "    </tr>\n",
       "    <tr>\n",
       "      <th>Medium_Load</th>\n",
       "      <td>1216</td>\n",
       "    </tr>\n",
       "    <tr>\n",
       "      <th rowspan=\"3\" valign=\"top\">Sunday</th>\n",
       "      <th>Light_Load</th>\n",
       "      <td>4040</td>\n",
       "    </tr>\n",
       "    <tr>\n",
       "      <th>Maximum_Load</th>\n",
       "      <td>408</td>\n",
       "    </tr>\n",
       "    <tr>\n",
       "      <th>Medium_Load</th>\n",
       "      <td>544</td>\n",
       "    </tr>\n",
       "  </tbody>\n",
       "</table>\n",
       "</div>"
      ],
      "text/plain": [
       "                                     date\n",
       "WeekStatus Day_of_week Load_Type         \n",
       "Weekday    Monday      Light_Load    2288\n",
       "                       Maximum_Load  1200\n",
       "                       Medium_Load   1600\n",
       "           Tuesday     Light_Load    2248\n",
       "                       Maximum_Load  1176\n",
       "                       Medium_Load   1568\n",
       "           Wednesday   Light_Load    2248\n",
       "                       Maximum_Load  1176\n",
       "                       Medium_Load   1568\n",
       "           Thursday    Light_Load    2192\n",
       "                       Maximum_Load  1200\n",
       "                       Medium_Load   1600\n",
       "           Friday      Light_Load    2192\n",
       "                       Maximum_Load  1200\n",
       "                       Medium_Load   1600\n",
       "Weekend    Saturday    Light_Load    2864\n",
       "                       Maximum_Load   912\n",
       "                       Medium_Load   1216\n",
       "           Sunday      Light_Load    4040\n",
       "                       Maximum_Load   408\n",
       "                       Medium_Load    544"
      ]
     },
     "execution_count": 15,
     "metadata": {},
     "output_type": "execute_result"
    }
   ],
   "source": [
    "consistency_check = df.groupby(['WeekStatus','Day_of_week','Load_Type'],observed=True,sort=True)[['date']].count()\n",
    "consistency_check "
   ]
  },
  {
   "cell_type": "markdown",
   "id": "3f86e19c",
   "metadata": {},
   "source": [
    "# Exploratory Analysis Visualization"
   ]
  },
  {
   "cell_type": "markdown",
   "id": "dccff4d7",
   "metadata": {},
   "source": [
    "### 1 . Group Hour and Day of Week columns BY Usage_kWh\n",
    "* To find number of hours where energy is consumed.\n",
    "* To find hours in days of week where energy is consumed."
   ]
  },
  {
   "cell_type": "code",
   "execution_count": 16,
   "id": "2a6c025a",
   "metadata": {
    "scrolled": true
   },
   "outputs": [],
   "source": [
    "# for getting the sum of usage_kwh per hour\n",
    "Agg_values = df.groupby(['Hour'])[['Usage_kWh']].sum().reset_index()\n",
    "\n",
    "# for getting the max usage_kwh per hour\n",
    "Agg_values2 = df.groupby(['Hour'])[['Usage_kWh']].max().reset_index()\n",
    "\n",
    "# for getting the average usage_kwh per hour\n",
    "Agg_values3 = df.groupby(['Hour'])[['Usage_kWh']].mean().reset_index()\n"
   ]
  },
  {
   "cell_type": "markdown",
   "id": "b2041ec2",
   "metadata": {},
   "source": [
    "### What are the Total, Max and Average Energy Consumption per Hour for the Year."
   ]
  },
  {
   "cell_type": "code",
   "execution_count": 17,
   "id": "45525d0c",
   "metadata": {},
   "outputs": [
    {
     "data": {
      "image/png": "[encoded data removed]",
      "text/plain": [
       "<Figure size 1800x504 with 3 Axes>"
      ]
     },
     "metadata": {
      "needs_background": "light"
     },
     "output_type": "display_data"
    }
   ],
   "source": [
    "# create a grid of subplots with 1 row and 2 columns\n",
    "fig, axes = plt.subplots(nrows=1, ncols=3, figsize=(25, 7))\n",
    "\n",
    "# plot the first graph in the first subplot\n",
    "sns.barplot(x='Hour', y='Usage_kWh', data=Agg_values, ax=axes[0], palette='crest')\n",
    "axes[0].set_title(\"Chart Showing the Total Usage_kWh Amount\")\n",
    "axes[0].set_ylabel('Sum of Energy Consumption in kWh')\n",
    "\n",
    "# plot the second graph in the second subplot\n",
    "sns.barplot(x='Hour', y='Usage_kWh', data=Agg_values2, ax=axes[1], palette='crest')\n",
    "axes[1].set_title(\"Chart Showing the Max Usage_kwh\")\n",
    "axes[1].set_ylabel('Maximum Energy Consumption in kWh')\n",
    "\n",
    "# plot the third graph in the third subplot\n",
    "sns.barplot(x='Hour', y='Usage_kWh', data=Agg_values3, ax=axes[2], palette='crest')\n",
    "axes[2].set_title(\"Chart Showing the Mean Usage_kwh\")\n",
    "axes[2].set_ylabel('Average Energy Consumption in kWh')\n",
    "\n",
    "\n",
    "# adjust the spacing between subplots and display the plot\n",
    "plt.subplots_adjust(wspace=0.5)\n",
    "plt.show()"
   ]
  },
  {
   "cell_type": "markdown",
   "id": "2274842c",
   "metadata": {},
   "source": [
    "* Observations -\n",
    "    * Throughtout the year, energy is consumed reaches its peak around 9am.\n",
    "    * Max energy consumed is also at its peak around 9am, and we see a slight drop in max energy after that. As the Energy usage still remains high.\n",
    "    * The average energy consumed, also at its highest at 9am and we see some drops in energy usage as the hours goes by.\n",
    "    "
   ]
  },
  {
   "cell_type": "markdown",
   "id": "94e096ca",
   "metadata": {},
   "source": [
    "### Highlighthing the Maximum and Minimum Energy Consumption for each graph "
   ]
  },
  {
   "cell_type": "code",
   "execution_count": 18,
   "id": "426dcf31",
   "metadata": {
    "scrolled": true
   },
   "outputs": [
    {
     "data": {
      "image/png": "[encoded data removed]",
      "text/plain": [
       "<Figure size 1800x504 with 3 Axes>"
      ]
     },
     "metadata": {
      "needs_background": "light"
     },
     "output_type": "display_data"
    }
   ],
   "source": [
    "# create a grid of subplots with 1 row and 3 columns\n",
    "fig, axes = plt.subplots(nrows=1, ncols=3, figsize=(25, 7))\n",
    "\n",
    "# plot the first graph in the first subplot\n",
    "sns.barplot(x='Hour', y='Usage_kWh', data=Agg_values, ax=axes[0], palette='crest')\n",
    "\n",
    "max_value = Agg_values['Usage_kWh'].max() # get the maximum value for Usage_kWh\n",
    "min_value = Agg_values['Usage_kWh'].min() # get the minimum value for Usage_kWh\n",
    "\n",
    "for p in axes[0].patches:\n",
    "    if p.get_height() == max_value: # check if the height of the patch is equal to the maximum value\n",
    "        p.set_color('red') # set the color of the patch to red\n",
    "    else:\n",
    "        p.set_color('grey') # set the color of the patch to grey\n",
    "        \n",
    "for p in axes[0].patches:\n",
    "    if p.get_height() == min_value: # check if the height of the patch is equal to the minimum value\n",
    "        p.set_color('cyan') # set the color of the patch to green\n",
    "        \n",
    "axes[0].set_title(\"Chart Showing the Total Usage_kWh Amount\")\n",
    "axes[0].set_ylabel('Sum of Energy Consumption in kWh')\n",
    "\n",
    "\n",
    "# plot the second graph in the second subplot\n",
    "sns.barplot(x='Hour', y='Usage_kWh', data=Agg_values2, ax=axes[1], palette='crest')\n",
    "\n",
    "max_value = Agg_values2['Usage_kWh'].max() # get the maximum value for Usage_kWh\n",
    "min_value = Agg_values2['Usage_kWh'].min() # get the minimum value for Usage_kWh\n",
    "\n",
    "for p in axes[1].patches:\n",
    "    if p.get_height() == max_value: # check if the height of the patch is equal to the maximum value\n",
    "        p.set_color('red') # set the color of the patch to red\n",
    "    else:\n",
    "        p.set_color('grey') # set the color of the patch to grey\n",
    "        \n",
    "for p in axes[1].patches:\n",
    "    if p.get_height() == min_value: # check if the height of the patch is equal to the minimum value\n",
    "        p.set_color('cyan') # set the color of the patch to green\n",
    "        \n",
    "axes[1].set_title(\"Chart Showing the Max Usage_kwh\")\n",
    "axes[1].set_ylabel('Maximum Energy Consumption in kWh')\n",
    "\n",
    "\n",
    "# plot the third graph in the third subplot\n",
    "sns.barplot(x='Hour', y='Usage_kWh', data=Agg_values3, ax=axes[2], palette='crest')\n",
    "\n",
    "max_value = Agg_values3['Usage_kWh'].max() # get the maximum value for Usage_kWh\n",
    "min_value = Agg_values3['Usage_kWh'].min() # get the minimum value for Usage_kWh\n",
    "\n",
    "for p in axes[2].patches:\n",
    "    if p.get_height() == max_value: # check if the height of the patch is equal to the minimum value\n",
    "        p.set_color('red') # set the color of the patch to red\n",
    "    else:\n",
    "        p.set_color('grey')# set the color of the patch to grey\n",
    "        \n",
    "for p in axes[2].patches:\n",
    "    if p.get_height() == min_value: # check if the height of the patch is equal to the minimum value\n",
    "        p.set_color('cyan') # set the color of the patch to green\n",
    "axes[2].set_title(\"Chart Showing the Mean Usage_kwh\")\n",
    "axes[2].set_ylabel('Average Energy Consumption in kWh')\n",
    "\n",
    "\n",
    "# adjust the spacing between subplots and display the plot\n",
    "plt.subplots_adjust(wspace=0.5)\n",
    "plt.show()"
   ]
  },
  {
   "cell_type": "markdown",
   "id": "d4ba1bfd",
   "metadata": {},
   "source": [
    "* Observations -\n",
    "    * Majorly At 9am we have the Highest Total Energy Consumption with kwh above 80,000 kwh, while the lowest consumption is at 6am with kwh below 10,000 kwh\n",
    "    * Majorly At 9am we have the Highest Maximum Energy Consumption with Max kwh close to 160 kwh, while the lowest Maximum consumption is at 3am with kwh below 100 kwh\n",
    "    * Majorly At 9am we have the Highest Average Energy Consumption with average kwh close to 60 kwh, while the lowest average consumption is at 6am kwh below 10 kwh"
   ]
  },
  {
   "cell_type": "markdown",
   "id": "0d46fbe3",
   "metadata": {},
   "source": [
    "### On What days do we have higher level release of 'CO2(tCO2)' and which loads releases it more. "
   ]
  },
  {
   "cell_type": "code",
   "execution_count": 19,
   "id": "1b39e180",
   "metadata": {
    "scrolled": true
   },
   "outputs": [],
   "source": [
    "# for getting the average CO2 release per day\n",
    "\n",
    "Agg_DOW = df.groupby(['Day_of_week','Load_Type'],sort=False)[['CO2(tCO2)']].mean().reset_index()"
   ]
  },
  {
   "cell_type": "code",
   "execution_count": 20,
   "id": "e9e198c9",
   "metadata": {
    "scrolled": true
   },
   "outputs": [
    {
     "data": {
      "text/plain": [
       "Text(0, 0.5, 'Average CO2(tCO2)')"
      ]
     },
     "execution_count": 20,
     "metadata": {},
     "output_type": "execute_result"
    },
    {
     "data": {
      "image/png": "[encoded data removed]",
      "text/plain": [
       "<Figure size 1800x504 with 2 Axes>"
      ]
     },
     "metadata": {
      "needs_background": "light"
     },
     "output_type": "display_data"
    }
   ],
   "source": [
    "# create a grid of subplots with 1 row and 2 columns\n",
    "fig, axes = plt.subplots(nrows=1, ncols=2, figsize=(25, 7))\n",
    "\n",
    "# plot the first graph in the first subplot\n",
    "sns.barplot(x='Load_Type', y='CO2(tCO2)', hue='Day_of_week', data=Agg_DOW, ax=axes[0], color='grey',ci=0)\n",
    "axes[0].legend().remove()\n",
    "\n",
    "max_value = Agg_DOW['CO2(tCO2)'].max() # get the maximum value for CO2(tCO2)\n",
    "min_value = Agg_DOW['CO2(tCO2)'].min() # get the minimum value for CO2(tCO2)\n",
    "\n",
    "for p in axes[0].patches:\n",
    "    if p.get_height() == max_value: # check if the height of the patch is equal to the mimum value\n",
    "        p.set_color('darkblue') # set the color of the patch to red\n",
    "    else:\n",
    "        p.set_color('grey')# set the color of the patch to grey\n",
    "        \n",
    "for p in axes[0].patches:\n",
    "    if p.get_height() == min_value: # check if the height of the patch is equal to the minimum value\n",
    "        p.set_color('blue') # set the color of the patch to red\n",
    "        \n",
    "axes[0].set_title(\"Average CO2(tCO2) Released for each Day \") # Add title\n",
    "axes[0].set_ylabel('Average CO2(tCO2)')\n",
    "\n",
    "# plot the second graph in the second subplot\n",
    "sns.barplot(x='Day_of_week', y='CO2(tCO2)',hue='Load_Type', data=Agg_DOW, ax=axes[1], palette='crest')\n",
    "axes[1].set_title(\"Average CO2(tCO2) Released for each Load_Type per Day \") # Add title\n",
    "axes[1].set_ylabel('Average CO2(tCO2)')\n",
    "\n"
   ]
  },
  {
   "cell_type": "markdown",
   "id": "ec8aef31",
   "metadata": {},
   "source": [
    "* Observations -\n",
    "    * The Highest Average CO2 released of about 0.03(tCO2) is done by Maximum load and usually on Mondays\n",
    "    * The lowest Average CO2 released below 0.005(tCO2) is done by Light Load and usually on Sundays"
   ]
  },
  {
   "cell_type": "markdown",
   "id": "dafe8084",
   "metadata": {},
   "source": [
    "### 2 . How is the energy consumptions on different days of the week."
   ]
  },
  {
   "cell_type": "code",
   "execution_count": 21,
   "id": "81bb0db3",
   "metadata": {
    "scrolled": false
   },
   "outputs": [],
   "source": [
    "# for getting the max usage_kwh per day\n",
    "WeekStatus = df.groupby(['WeekStatus','Day_of_week'],observed=True,sort=False)[['Usage_kWh']].max().reset_index()\n",
    "\n",
    "# for getting the mean usage_kwh per day\n",
    "WeekStatus2 = df.groupby(['WeekStatus','Day_of_week'],observed=True,sort=False)[['Usage_kWh']].mean().reset_index()"
   ]
  },
  {
   "cell_type": "code",
   "execution_count": 22,
   "id": "9d2bd7d1",
   "metadata": {
    "scrolled": true
   },
   "outputs": [
    {
     "data": {
      "text/plain": [
       "Text(0, 0.5, 'Average Consumption in kWh')"
      ]
     },
     "execution_count": 22,
     "metadata": {},
     "output_type": "execute_result"
    },
    {
     "data": {
      "image/png": "[encoded data removed]",
      "text/plain": [
       "<Figure size 1800x504 with 2 Axes>"
      ]
     },
     "metadata": {
      "needs_background": "light"
     },
     "output_type": "display_data"
    }
   ],
   "source": [
    "# create the grouped lineplot\n",
    "fig, axes = plt.subplots(nrows=1, ncols=2, figsize=(25, 7))\n",
    "\n",
    "#plot first graph for first subplot\n",
    "sns.lineplot(x='Day_of_week', y='Usage_kWh', data=WeekStatus, ax=axes[0], color='r')\n",
    "\n",
    "# add title and axis labels\n",
    "axes[0].set_title('Total Energy Consumption by Day of Week')\n",
    "axes[0].set_ylabel('Energy Consumption in kWh')\n",
    "\n",
    "#plot second graph for 2nd subplot\n",
    "sns.lineplot(x='Day_of_week', y='Usage_kWh', data=WeekStatus2, ax=axes[1], color='b')\n",
    "\n",
    "# add title and axis labels\n",
    "axes[1].set_title('Average Energy Consumption by Day of Week')\n",
    "axes[1].set_ylabel('Average Consumption in kWh')"
   ]
  },
  {
   "cell_type": "markdown",
   "id": "8f0d375d",
   "metadata": {},
   "source": [
    "* Observations -\n",
    "    * Total Energy Consumption reaches its peak on Thursdays after a dip on Wednesdays, Followed by a sharp decline on Fridays and Weekends\n",
    "    * We see a dip in Average Energy Consumption on Wednesdays Followed by a rise on Thursdays and then a fall again during weekends"
   ]
  },
  {
   "cell_type": "code",
   "execution_count": 23,
   "id": "9ae7366f",
   "metadata": {
    "scrolled": true
   },
   "outputs": [
    {
     "data": {
      "text/html": [
       "<div>\n",
       "<style scoped>\n",
       "    .dataframe tbody tr th:only-of-type {\n",
       "        vertical-align: middle;\n",
       "    }\n",
       "\n",
       "    .dataframe tbody tr th {\n",
       "        vertical-align: top;\n",
       "    }\n",
       "\n",
       "    .dataframe thead th {\n",
       "        text-align: right;\n",
       "    }\n",
       "</style>\n",
       "<table border=\"1\" class=\"dataframe\">\n",
       "  <thead>\n",
       "    <tr style=\"text-align: right;\">\n",
       "      <th></th>\n",
       "      <th>date</th>\n",
       "      <th>Usage_kWh</th>\n",
       "      <th>Lagging_Current_Reactive.Power_kVarh</th>\n",
       "      <th>Leading_Current_Reactive_Power_kVarh</th>\n",
       "      <th>CO2(tCO2)</th>\n",
       "      <th>Lagging_Current_Power_Factor</th>\n",
       "      <th>Leading_Current_Power_Factor</th>\n",
       "      <th>NSM</th>\n",
       "      <th>WeekStatus</th>\n",
       "      <th>Day_of_week</th>\n",
       "      <th>Load_Type</th>\n",
       "      <th>Year</th>\n",
       "      <th>Month</th>\n",
       "      <th>Hour</th>\n",
       "    </tr>\n",
       "  </thead>\n",
       "  <tbody>\n",
       "    <tr>\n",
       "      <th>0</th>\n",
       "      <td>2018-01-01 00:15:00</td>\n",
       "      <td>3.17</td>\n",
       "      <td>2.95</td>\n",
       "      <td>0.0</td>\n",
       "      <td>0.0</td>\n",
       "      <td>73.21</td>\n",
       "      <td>100.0</td>\n",
       "      <td>900</td>\n",
       "      <td>Weekday</td>\n",
       "      <td>Monday</td>\n",
       "      <td>Light_Load</td>\n",
       "      <td>2018</td>\n",
       "      <td>Jan</td>\n",
       "      <td>0</td>\n",
       "    </tr>\n",
       "    <tr>\n",
       "      <th>1</th>\n",
       "      <td>2018-01-01 00:30:00</td>\n",
       "      <td>4.00</td>\n",
       "      <td>4.46</td>\n",
       "      <td>0.0</td>\n",
       "      <td>0.0</td>\n",
       "      <td>66.77</td>\n",
       "      <td>100.0</td>\n",
       "      <td>1800</td>\n",
       "      <td>Weekday</td>\n",
       "      <td>Monday</td>\n",
       "      <td>Light_Load</td>\n",
       "      <td>2018</td>\n",
       "      <td>Jan</td>\n",
       "      <td>0</td>\n",
       "    </tr>\n",
       "  </tbody>\n",
       "</table>\n",
       "</div>"
      ],
      "text/plain": [
       "                 date  Usage_kWh  Lagging_Current_Reactive.Power_kVarh  \\\n",
       "0 2018-01-01 00:15:00       3.17                                  2.95   \n",
       "1 2018-01-01 00:30:00       4.00                                  4.46   \n",
       "\n",
       "   Leading_Current_Reactive_Power_kVarh  CO2(tCO2)  \\\n",
       "0                                   0.0        0.0   \n",
       "1                                   0.0        0.0   \n",
       "\n",
       "   Lagging_Current_Power_Factor  Leading_Current_Power_Factor   NSM  \\\n",
       "0                         73.21                         100.0   900   \n",
       "1                         66.77                         100.0  1800   \n",
       "\n",
       "  WeekStatus Day_of_week   Load_Type  Year Month  Hour  \n",
       "0    Weekday      Monday  Light_Load  2018   Jan     0  \n",
       "1    Weekday      Monday  Light_Load  2018   Jan     0  "
      ]
     },
     "execution_count": 23,
     "metadata": {},
     "output_type": "execute_result"
    }
   ],
   "source": [
    "# view dataset\n",
    "df.head(2)"
   ]
  },
  {
   "cell_type": "markdown",
   "id": "94e3d841",
   "metadata": {},
   "source": [
    "### 3. How do different Load types consume energy by week status"
   ]
  },
  {
   "cell_type": "code",
   "execution_count": 24,
   "id": "39c8221f",
   "metadata": {
    "scrolled": false
   },
   "outputs": [],
   "source": [
    "# for getting the sum of usage_kwh per weekstatus\n",
    "weekS = df.groupby(['WeekStatus','Load_Type'])['Usage_kWh'].sum().reset_index()\n",
    "\n",
    "# for getting the max usage_kwh per weekstatus\n",
    "weekS1 = df.groupby(['WeekStatus','Load_Type'])['Usage_kWh'].max().reset_index()\n",
    "\n",
    "# for getting the average usage_kwh per weekstatus\n",
    "weekS2 = df.groupby(['WeekStatus','Load_Type'])['Usage_kWh'].mean().reset_index()\n"
   ]
  },
  {
   "cell_type": "code",
   "execution_count": 25,
   "id": "c95375e9",
   "metadata": {
    "scrolled": true
   },
   "outputs": [
    {
     "data": {
      "text/plain": [
       "Text(0, 0.5, 'Average Consumption in kWh')"
      ]
     },
     "execution_count": 25,
     "metadata": {},
     "output_type": "execute_result"
    },
    {
     "data": {
      "image/png": "[encoded data removed]",
      "text/plain": [
       "<Figure size 1800x504 with 3 Axes>"
      ]
     },
     "metadata": {
      "needs_background": "light"
     },
     "output_type": "display_data"
    }
   ],
   "source": [
    "# create a grid of subplots with 1 row and 3 columns\n",
    "fig, axes = plt.subplots(nrows=1, ncols=3, figsize=(25, 7))\n",
    "\n",
    "#plot first graph for 1st subplot\n",
    "sns.barplot(x = 'WeekStatus',y='Usage_kWh', data = weekS, hue='Load_Type', ax=axes[0] ,ci=0)\n",
    "\n",
    "max_value = weekS['Usage_kWh'].max() # get the maximum value for Usage_kWh\n",
    "min_value = weekS['Usage_kWh'].min() # get the minimum value for Usage_kWh\n",
    "\n",
    "for p in axes[0].patches:\n",
    "    if p.get_height() == max_value: # check if the height of the patch is equal to the maximum value\n",
    "        p.set_color('orange') # set the color of the patch to orange\n",
    "    else:\n",
    "        p.set_color('grey')# set the color of the patch to grey\n",
    "        \n",
    "for p in axes[0].patches:\n",
    "    if p.get_height() == min_value: # check if the height of the patch is equal to the minimum value\n",
    "        p.set_color('green') # set the color of the patch to red\n",
    "        \n",
    "# add title and axis labels\n",
    "axes[0].set_title('Sum of Energy Consumption by WeekStatus')\n",
    "axes[0].set_ylabel('Sum of Energy Consumption in kWh')\n",
    "\n",
    "\n",
    "#plot second graph for 2nd subplot\n",
    "sns.barplot(x = 'WeekStatus',y='Usage_kWh', data = weekS1,hue='Load_Type', ax=axes[1], ci=0)\n",
    "\n",
    "max_value = weekS1['Usage_kWh'].max() # get the maximum value for Usage_kWh\n",
    "min_value = weekS1['Usage_kWh'].min() # get the minimum value for Usage_kWh\n",
    "\n",
    "for p in axes[1].patches:\n",
    "    if p.get_height() == max_value: # check if the height of the patch is equal to the maximum value\n",
    "        p.set_color('green') # set the color of the patch to green\n",
    "    else:\n",
    "        p.set_color('grey')# set the color of the patch to grey\n",
    "        \n",
    "for p in axes[1].patches:\n",
    "    if p.get_height() == min_value: # check if the height of the patch is equal to the minimum value\n",
    "        p.set_color('blue') # set the color of the patch to blueb\n",
    "        \n",
    "# add title and axis labels\n",
    "axes[1].set_title('Maximum Energy Consumption by WeekStatus')\n",
    "axes[1].set_ylabel('Maximum Consumption in kWh')\n",
    "\n",
    "\n",
    "\n",
    "#plot second graph for 3rd subplot\n",
    "sns.barplot(x = 'WeekStatus',y='Usage_kWh', data = weekS2, hue='Load_Type',ax=axes[2], color='grey', ci=0)\n",
    "# add title and axis labels\n",
    "axes[2].set_title('Average Consumption by WeekStatus')\n",
    "axes[2].set_ylabel('Average Consumption in kWh')"
   ]
  },
  {
   "cell_type": "markdown",
   "id": "f035340d",
   "metadata": {},
   "source": [
    "* Observations -\n",
    "    * In total, maximum load consumes more energy on weekdays and medium load consumes the least but on weekends.\n",
    "    * For Max consumption, medium load consumes more energy on weekdays and light load cosumes the least but on weekends.\n",
    "    * On average, Maximum load takes most of our energy consumption for both weekdays and weekends."
   ]
  },
  {
   "cell_type": "markdown",
   "id": "45ee56eb",
   "metadata": {},
   "source": [
    "### 4. What is the Average energy consumption on days of the week."
   ]
  },
  {
   "cell_type": "code",
   "execution_count": 26,
   "id": "4053f938",
   "metadata": {
    "scrolled": true
   },
   "outputs": [],
   "source": [
    "# to find the average usage_kwh per day\n",
    "Load_DOW = df.groupby(['Day_of_week'],sort=False)['Usage_kWh'].mean().reset_index()"
   ]
  },
  {
   "cell_type": "code",
   "execution_count": 27,
   "id": "c4c1dcdc",
   "metadata": {},
   "outputs": [
    {
     "data": {
      "text/plain": [
       "Text(0, 0.5, 'Average Daily Energy Consumption in kWh')"
      ]
     },
     "execution_count": 27,
     "metadata": {},
     "output_type": "execute_result"
    },
    {
     "data": {
      "image/png": "[encoded data removed]",
      "text/plain": [
       "<Figure size 576x360 with 2 Axes>"
      ]
     },
     "metadata": {
      "needs_background": "light"
     },
     "output_type": "display_data"
    }
   ],
   "source": [
    "# create a grid of subplots with 1 row and 3 columns\n",
    "fig, ax = plt.subplots(figsize=(8, 5))\n",
    "\n",
    "axes = fig.add_axes([0.1, 0.1, 0.8, 0.8])\n",
    "\n",
    "#plot first graph for 1st subplot\n",
    "sns.barplot(x = 'Day_of_week', y='Usage_kWh' , data = Load_DOW, ax=axes, ci=0)\n",
    "\n",
    "max_value = Load_DOW['Usage_kWh'].max() # get the maximum value for Usage_kWh\n",
    "min_value = Load_DOW['Usage_kWh'].min() # get the minimum value for Usage_kWh\n",
    "\n",
    "for p in axes.patches:\n",
    "    if p.get_height() == max_value: # check if the height of the patch is equal to the maximum value\n",
    "        p.set_color('red') # set the color of the patch to orange\n",
    "    else:\n",
    "        p.set_color('grey')# set the color of the patch to grey\n",
    "        \n",
    "for p in axes.patches:\n",
    "    if p.get_height() == min_value: # check if the height of the patch is equal to the minimum value\n",
    "        p.set_color('cyan') # set the color of the patch to red\n",
    "        \n",
    "# add title and axis labels\n",
    "axes.set_title('Average Energy Consumption by Day of Week')\n",
    "axes.set_ylabel('Average Daily Energy Consumption in kWh')\n"
   ]
  },
  {
   "cell_type": "markdown",
   "id": "89c7c75c",
   "metadata": {},
   "source": [
    "* Observations - \n",
    "    * The Average Energy Consumption is highest on Thursdays and lowest on Sundays"
   ]
  },
  {
   "cell_type": "markdown",
   "id": "cb03565f",
   "metadata": {},
   "source": [
    "### 5. How is the energy consumption by different Load Types over the Months."
   ]
  },
  {
   "cell_type": "code",
   "execution_count": 28,
   "id": "84e627ba",
   "metadata": {
    "scrolled": true
   },
   "outputs": [],
   "source": [
    "# to get the sum of all load types energy consumption by month\n",
    "Month_Usage = df.groupby(['Month','Load_Type'],sort=False)['Usage_kWh'].sum().reset_index()\n",
    "\n",
    "# to get the max of all load types energy consumption by month\n",
    "Month_Usage1 = df.groupby(['Month','Load_Type'],sort=False)['Usage_kWh'].max().reset_index()\n",
    "\n",
    "# to get the average of all load types energy consumption by month\n",
    "Month_Usage2 = df.groupby(['Month','Load_Type'],sort=False)['Usage_kWh'].mean().reset_index()"
   ]
  },
  {
   "cell_type": "code",
   "execution_count": 29,
   "id": "5a296bcf",
   "metadata": {},
   "outputs": [
    {
     "data": {
      "text/plain": [
       "Text(0, 0.5, 'Average Consumption in kWh')"
      ]
     },
     "execution_count": 29,
     "metadata": {},
     "output_type": "execute_result"
    },
    {
     "data": {
      "image/png": "[encoded data removed]",
      "text/plain": [
       "<Figure size 1800x504 with 3 Axes>"
      ]
     },
     "metadata": {
      "needs_background": "light"
     },
     "output_type": "display_data"
    }
   ],
   "source": [
    "# create a grid of subplots with 1 row and 3 columns\n",
    "fig, axes = plt.subplots(nrows=1, ncols=3, figsize=(25, 7))\n",
    "\n",
    "#plot first graph for 1st subplot\n",
    "sns.barplot(x = 'Month',y='Usage_kWh', data = Month_Usage , hue='Load_Type', ax=axes[0] ,ci=0)\n",
    "\n",
    "max_value = Month_Usage['Usage_kWh'].max() # get the maximum value for Usage_kWh\n",
    "min_value = Month_Usage['Usage_kWh'].min() # get the minimum value for Usage_kWh\n",
    "\n",
    "for p in axes[0].patches:\n",
    "    if p.get_height() == max_value: # check if the height of the patch is equal to the maximum value\n",
    "        p.set_color('green') # set the color of the patch to orange\n",
    "    else:\n",
    "        p.set_color('grey')# set the color of the patch to grey\n",
    "        \n",
    "for p in axes[0].patches:\n",
    "    if p.get_height() == min_value: # check if the height of the patch is equal to the minimum value\n",
    "        p.set_color('blue') # set the color of the patch to red\n",
    "        \n",
    "# add title and axis labels\n",
    "axes[0].set_title('Sum of Energy Consumption by Month')\n",
    "axes[0].set_ylabel('Sum of Energy Consumption in kWh')\n",
    "\n",
    "\n",
    "#plot second graph for 2nd subplot\n",
    "sns.barplot(x = 'Month',y='Usage_kWh', data = Month_Usage1, hue='Load_Type', ax=axes[1], ci=0)\n",
    "\n",
    "max_value = Month_Usage1['Usage_kWh'].max() # get the maximum value for Usage_kWh\n",
    "min_value = Month_Usage1['Usage_kWh'].min() # get the minimum value for Usage_kWh\n",
    "\n",
    "for p in axes[1].patches:\n",
    "    if p.get_height() == max_value: # check if the height of the patch is equal to the maximum value\n",
    "        p.set_color('green') # set the color of the patch to green\n",
    "    else:\n",
    "        p.set_color('grey')# set the color of the patch to grey\n",
    "        \n",
    "for p in axes[1].patches:\n",
    "    if p.get_height() == min_value: # check if the height of the patch is equal to the minimum value\n",
    "        p.set_color('blue') # set the color of the patch to blue\n",
    "        \n",
    "# add title and axis labels\n",
    "axes[1].set_title('Maximum Energy Consumption by Month')\n",
    "axes[1].set_ylabel('Maximum Consumption in kWh')\n",
    "\n",
    "\n",
    "\n",
    "#plot third graph for 3rd subplot\n",
    "sns.barplot(x = 'Month',y='Usage_kWh', data = Month_Usage2, hue='Load_Type',ax=axes[2], ci=0)\n",
    "\n",
    "max_value = Month_Usage2['Usage_kWh'].max() # get the maximum value for Usage_kWh\n",
    "min_value = Month_Usage2['Usage_kWh'].min() # get the minimum value for Usage_kWh\n",
    "\n",
    "for p in axes[2].patches:\n",
    "    if p.get_height() == max_value: # check if the height of the patch is equal to the maximum value\n",
    "        p.set_color('orange') # set the color of the patch to green\n",
    "    else:\n",
    "        p.set_color('grey')# set the color of the patch to grey\n",
    "        \n",
    "for p in axes[2].patches:\n",
    "    if p.get_height() == min_value: # check if the height of the patch is equal to the minimum value\n",
    "        p.set_color('blue') # set the color of the patch to blue\n",
    "        \n",
    "# add title and axis labels\n",
    "axes[2].set_title('Average Consumption by Month')\n",
    "axes[2].set_ylabel('Average Consumption in kWh')"
   ]
  },
  {
   "cell_type": "markdown",
   "id": "f1819409",
   "metadata": {},
   "source": [
    "* Observations -\n",
    "    * Total Energy Consumption is at its peak in January which is consumed by Medium loads, and the lowest is in September which is consumed by light loads.\n",
    "    * Maximum Energy Consumption is peak in November by Medium loads, and is lowest in June by Light loads.\n",
    "    * Average Energy Consumption is peak in February by Maximum loads, and is lowest in September by Light loads."
   ]
  },
  {
   "cell_type": "code",
   "execution_count": 30,
   "id": "cf6ebd46",
   "metadata": {},
   "outputs": [
    {
     "data": {
      "text/html": [
       "<div>\n",
       "<style scoped>\n",
       "    .dataframe tbody tr th:only-of-type {\n",
       "        vertical-align: middle;\n",
       "    }\n",
       "\n",
       "    .dataframe tbody tr th {\n",
       "        vertical-align: top;\n",
       "    }\n",
       "\n",
       "    .dataframe thead th {\n",
       "        text-align: right;\n",
       "    }\n",
       "</style>\n",
       "<table border=\"1\" class=\"dataframe\">\n",
       "  <thead>\n",
       "    <tr style=\"text-align: right;\">\n",
       "      <th></th>\n",
       "      <th>date</th>\n",
       "      <th>Usage_kWh</th>\n",
       "      <th>Lagging_Current_Reactive.Power_kVarh</th>\n",
       "      <th>Leading_Current_Reactive_Power_kVarh</th>\n",
       "      <th>CO2(tCO2)</th>\n",
       "      <th>Lagging_Current_Power_Factor</th>\n",
       "      <th>Leading_Current_Power_Factor</th>\n",
       "      <th>NSM</th>\n",
       "      <th>WeekStatus</th>\n",
       "      <th>Day_of_week</th>\n",
       "      <th>Load_Type</th>\n",
       "      <th>Year</th>\n",
       "      <th>Month</th>\n",
       "      <th>Hour</th>\n",
       "    </tr>\n",
       "  </thead>\n",
       "  <tbody>\n",
       "    <tr>\n",
       "      <th>0</th>\n",
       "      <td>2018-01-01 00:15:00</td>\n",
       "      <td>3.17</td>\n",
       "      <td>2.95</td>\n",
       "      <td>0.0</td>\n",
       "      <td>0.0</td>\n",
       "      <td>73.21</td>\n",
       "      <td>100.0</td>\n",
       "      <td>900</td>\n",
       "      <td>Weekday</td>\n",
       "      <td>Monday</td>\n",
       "      <td>Light_Load</td>\n",
       "      <td>2018</td>\n",
       "      <td>Jan</td>\n",
       "      <td>0</td>\n",
       "    </tr>\n",
       "    <tr>\n",
       "      <th>1</th>\n",
       "      <td>2018-01-01 00:30:00</td>\n",
       "      <td>4.00</td>\n",
       "      <td>4.46</td>\n",
       "      <td>0.0</td>\n",
       "      <td>0.0</td>\n",
       "      <td>66.77</td>\n",
       "      <td>100.0</td>\n",
       "      <td>1800</td>\n",
       "      <td>Weekday</td>\n",
       "      <td>Monday</td>\n",
       "      <td>Light_Load</td>\n",
       "      <td>2018</td>\n",
       "      <td>Jan</td>\n",
       "      <td>0</td>\n",
       "    </tr>\n",
       "  </tbody>\n",
       "</table>\n",
       "</div>"
      ],
      "text/plain": [
       "                 date  Usage_kWh  Lagging_Current_Reactive.Power_kVarh  \\\n",
       "0 2018-01-01 00:15:00       3.17                                  2.95   \n",
       "1 2018-01-01 00:30:00       4.00                                  4.46   \n",
       "\n",
       "   Leading_Current_Reactive_Power_kVarh  CO2(tCO2)  \\\n",
       "0                                   0.0        0.0   \n",
       "1                                   0.0        0.0   \n",
       "\n",
       "   Lagging_Current_Power_Factor  Leading_Current_Power_Factor   NSM  \\\n",
       "0                         73.21                         100.0   900   \n",
       "1                         66.77                         100.0  1800   \n",
       "\n",
       "  WeekStatus Day_of_week   Load_Type  Year Month  Hour  \n",
       "0    Weekday      Monday  Light_Load  2018   Jan     0  \n",
       "1    Weekday      Monday  Light_Load  2018   Jan     0  "
      ]
     },
     "execution_count": 30,
     "metadata": {},
     "output_type": "execute_result"
    }
   ],
   "source": [
    "# view dataset\n",
    "df.head(2)"
   ]
  },
  {
   "cell_type": "markdown",
   "id": "e67c12e0",
   "metadata": {},
   "source": [
    "### 6. What are the aggregate values for energy consumption for all the Load Types."
   ]
  },
  {
   "cell_type": "code",
   "execution_count": 31,
   "id": "c0c6dd85",
   "metadata": {
    "scrolled": true
   },
   "outputs": [],
   "source": [
    "# to find sum of usage_kwh per load type\n",
    "Agg = df.groupby(['Load_Type'])['Usage_kWh'].sum().reset_index()\n",
    "\n",
    "# to find max usage_kwh per load type\n",
    "Agg1 = df.groupby(['Load_Type'])['Usage_kWh'].max().reset_index()\n",
    "\n",
    "# to find average usage_kwh per load type\n",
    "Agg2 = df.groupby(['Load_Type'])['Usage_kWh'].mean().reset_index()"
   ]
  },
  {
   "cell_type": "code",
   "execution_count": 32,
   "id": "e68f4f22",
   "metadata": {},
   "outputs": [
    {
     "data": {
      "image/png": "[encoded data removed]",
      "text/plain": [
       "<Figure size 1800x504 with 3 Axes>"
      ]
     },
     "metadata": {
      "needs_background": "light"
     },
     "output_type": "display_data"
    }
   ],
   "source": [
    "# create a grid of subplots with 1 row and 2 columns\n",
    "fig, axes = plt.subplots(nrows=1, ncols=3, figsize=(25, 7))\n",
    "\n",
    "# plot the first graph in the first subplot\n",
    "sns.barplot(x='Load_Type', y='Usage_kWh', data=Agg, ax=axes[0])\n",
    "axes[0].set_title(\"Chart Showing the Total Usage_kWh Amount\")\n",
    "axes[0].set_ylabel('Sum of Energy Consumption in kWh')\n",
    "\n",
    "# plot the second graph in the second subplot\n",
    "sns.barplot(x='Load_Type', y='Usage_kWh', data=Agg1, ax=axes[1])\n",
    "axes[1].set_title(\"Chart Showing the Max Usage_kwh\")\n",
    "axes[1].set_ylabel('Maximum Energy Consumption in kWh')\n",
    "\n",
    "# plot the third graph in the third subplot\n",
    "sns.barplot(x='Load_Type', y='Usage_kWh', data=Agg2, ax=axes[2])\n",
    "axes[2].set_title(\"Chart Showing the Mean Usage_kwh\")\n",
    "axes[2].set_ylabel('Average Energy Consumption in kWh')\n",
    "\n",
    "\n",
    "# adjust the spacing between subplots and display the plot\n",
    "plt.subplots_adjust(wspace=0.5)\n",
    "plt.show()"
   ]
  },
  {
   "cell_type": "markdown",
   "id": "f764e28e",
   "metadata": {},
   "source": [
    "* Observations - \n",
    "    * In Total, Maximum load has highest Energy Consumption.\n",
    "    * For max energy consumption, Medium Load is used to the maximum more.\n",
    "    * But on Average Maximum load consumes more energy. "
   ]
  },
  {
   "cell_type": "code",
   "execution_count": 33,
   "id": "80f45304",
   "metadata": {
    "scrolled": true
   },
   "outputs": [
    {
     "data": {
      "text/html": [
       "<div>\n",
       "<style scoped>\n",
       "    .dataframe tbody tr th:only-of-type {\n",
       "        vertical-align: middle;\n",
       "    }\n",
       "\n",
       "    .dataframe tbody tr th {\n",
       "        vertical-align: top;\n",
       "    }\n",
       "\n",
       "    .dataframe thead th {\n",
       "        text-align: right;\n",
       "    }\n",
       "</style>\n",
       "<table border=\"1\" class=\"dataframe\">\n",
       "  <thead>\n",
       "    <tr style=\"text-align: right;\">\n",
       "      <th></th>\n",
       "      <th>date</th>\n",
       "      <th>Usage_kWh</th>\n",
       "      <th>Lagging_Current_Reactive.Power_kVarh</th>\n",
       "      <th>Leading_Current_Reactive_Power_kVarh</th>\n",
       "      <th>CO2(tCO2)</th>\n",
       "      <th>Lagging_Current_Power_Factor</th>\n",
       "      <th>Leading_Current_Power_Factor</th>\n",
       "      <th>NSM</th>\n",
       "      <th>WeekStatus</th>\n",
       "      <th>Day_of_week</th>\n",
       "      <th>Load_Type</th>\n",
       "      <th>Year</th>\n",
       "      <th>Month</th>\n",
       "      <th>Hour</th>\n",
       "    </tr>\n",
       "  </thead>\n",
       "  <tbody>\n",
       "    <tr>\n",
       "      <th>0</th>\n",
       "      <td>2018-01-01 00:15:00</td>\n",
       "      <td>3.17</td>\n",
       "      <td>2.95</td>\n",
       "      <td>0.0</td>\n",
       "      <td>0.0</td>\n",
       "      <td>73.21</td>\n",
       "      <td>100.0</td>\n",
       "      <td>900</td>\n",
       "      <td>Weekday</td>\n",
       "      <td>Monday</td>\n",
       "      <td>Light_Load</td>\n",
       "      <td>2018</td>\n",
       "      <td>Jan</td>\n",
       "      <td>0</td>\n",
       "    </tr>\n",
       "    <tr>\n",
       "      <th>1</th>\n",
       "      <td>2018-01-01 00:30:00</td>\n",
       "      <td>4.00</td>\n",
       "      <td>4.46</td>\n",
       "      <td>0.0</td>\n",
       "      <td>0.0</td>\n",
       "      <td>66.77</td>\n",
       "      <td>100.0</td>\n",
       "      <td>1800</td>\n",
       "      <td>Weekday</td>\n",
       "      <td>Monday</td>\n",
       "      <td>Light_Load</td>\n",
       "      <td>2018</td>\n",
       "      <td>Jan</td>\n",
       "      <td>0</td>\n",
       "    </tr>\n",
       "  </tbody>\n",
       "</table>\n",
       "</div>"
      ],
      "text/plain": [
       "                 date  Usage_kWh  Lagging_Current_Reactive.Power_kVarh  \\\n",
       "0 2018-01-01 00:15:00       3.17                                  2.95   \n",
       "1 2018-01-01 00:30:00       4.00                                  4.46   \n",
       "\n",
       "   Leading_Current_Reactive_Power_kVarh  CO2(tCO2)  \\\n",
       "0                                   0.0        0.0   \n",
       "1                                   0.0        0.0   \n",
       "\n",
       "   Lagging_Current_Power_Factor  Leading_Current_Power_Factor   NSM  \\\n",
       "0                         73.21                         100.0   900   \n",
       "1                         66.77                         100.0  1800   \n",
       "\n",
       "  WeekStatus Day_of_week   Load_Type  Year Month  Hour  \n",
       "0    Weekday      Monday  Light_Load  2018   Jan     0  \n",
       "1    Weekday      Monday  Light_Load  2018   Jan     0  "
      ]
     },
     "execution_count": 33,
     "metadata": {},
     "output_type": "execute_result"
    }
   ],
   "source": [
    "# view dataset\n",
    "df.head(2)"
   ]
  },
  {
   "cell_type": "markdown",
   "id": "59f6f6df",
   "metadata": {},
   "source": [
    "### 7 . Group Load Type and check the NSM and Usage_kWh(max, min and mean) values"
   ]
  },
  {
   "cell_type": "code",
   "execution_count": 34,
   "id": "8a348ed6",
   "metadata": {
    "scrolled": false
   },
   "outputs": [
    {
     "data": {
      "text/html": [
       "<div>\n",
       "<style scoped>\n",
       "    .dataframe tbody tr th:only-of-type {\n",
       "        vertical-align: middle;\n",
       "    }\n",
       "\n",
       "    .dataframe tbody tr th {\n",
       "        vertical-align: top;\n",
       "    }\n",
       "\n",
       "    .dataframe thead tr th {\n",
       "        text-align: left;\n",
       "    }\n",
       "\n",
       "    .dataframe thead tr:last-of-type th {\n",
       "        text-align: right;\n",
       "    }\n",
       "</style>\n",
       "<table border=\"1\" class=\"dataframe\">\n",
       "  <thead>\n",
       "    <tr>\n",
       "      <th></th>\n",
       "      <th colspan=\"3\" halign=\"left\">NSM</th>\n",
       "      <th colspan=\"3\" halign=\"left\">Usage_kWh</th>\n",
       "    </tr>\n",
       "    <tr>\n",
       "      <th></th>\n",
       "      <th>max</th>\n",
       "      <th>min</th>\n",
       "      <th>mean</th>\n",
       "      <th>max</th>\n",
       "      <th>min</th>\n",
       "      <th>mean</th>\n",
       "    </tr>\n",
       "    <tr>\n",
       "      <th>Load_Type</th>\n",
       "      <th></th>\n",
       "      <th></th>\n",
       "      <th></th>\n",
       "      <th></th>\n",
       "      <th></th>\n",
       "      <th></th>\n",
       "    </tr>\n",
       "  </thead>\n",
       "  <tbody>\n",
       "    <tr>\n",
       "      <th>Light_Load</th>\n",
       "      <td>85500</td>\n",
       "      <td>0</td>\n",
       "      <td>28384.661355</td>\n",
       "      <td>140.29</td>\n",
       "      <td>0.00</td>\n",
       "      <td>8.626207</td>\n",
       "    </tr>\n",
       "    <tr>\n",
       "      <th>Maximum_Load</th>\n",
       "      <td>82800</td>\n",
       "      <td>36900</td>\n",
       "      <td>53036.138614</td>\n",
       "      <td>151.67</td>\n",
       "      <td>2.92</td>\n",
       "      <td>59.265314</td>\n",
       "    </tr>\n",
       "    <tr>\n",
       "      <th>Medium_Load</th>\n",
       "      <td>82800</td>\n",
       "      <td>33300</td>\n",
       "      <td>61810.396040</td>\n",
       "      <td>157.18</td>\n",
       "      <td>2.52</td>\n",
       "      <td>38.445394</td>\n",
       "    </tr>\n",
       "  </tbody>\n",
       "</table>\n",
       "</div>"
      ],
      "text/plain": [
       "                NSM                      Usage_kWh                 \n",
       "                max    min          mean       max   min       mean\n",
       "Load_Type                                                          \n",
       "Light_Load    85500      0  28384.661355    140.29  0.00   8.626207\n",
       "Maximum_Load  82800  36900  53036.138614    151.67  2.92  59.265314\n",
       "Medium_Load   82800  33300  61810.396040    157.18  2.52  38.445394"
      ]
     },
     "execution_count": 34,
     "metadata": {},
     "output_type": "execute_result"
    }
   ],
   "source": [
    "# to view aggregate usage_kwh and NSM per load type\n",
    "\n",
    "df.groupby(['Load_Type'])[['NSM','Usage_kWh']].agg(['max', 'min', 'mean'])"
   ]
  },
  {
   "cell_type": "markdown",
   "id": "70293832",
   "metadata": {},
   "source": [
    "### 8. Show the Correlation between all the values"
   ]
  },
  {
   "cell_type": "code",
   "execution_count": 35,
   "id": "535a6ab0",
   "metadata": {},
   "outputs": [],
   "source": [
    "# renaming columns\n",
    "df = df.rename(columns={'Lagging_Current_Reactive.Power_kVarh': 'Lag_CRP(kVarh)', \n",
    "                        'Leading_Current_Reactive_Power_kVarh': 'Lead_CRP(kVarh)'})\n",
    "df = df.rename(columns={'Lagging_Current_Power_Factor': 'Lag_CPF', 'Leading_Current_Power_Factor': 'Lead_CPF'})"
   ]
  },
  {
   "cell_type": "code",
   "execution_count": 36,
   "id": "6bbd4369",
   "metadata": {
    "scrolled": true
   },
   "outputs": [
    {
     "data": {
      "text/html": [
       "<div>\n",
       "<style scoped>\n",
       "    .dataframe tbody tr th:only-of-type {\n",
       "        vertical-align: middle;\n",
       "    }\n",
       "\n",
       "    .dataframe tbody tr th {\n",
       "        vertical-align: top;\n",
       "    }\n",
       "\n",
       "    .dataframe thead th {\n",
       "        text-align: right;\n",
       "    }\n",
       "</style>\n",
       "<table border=\"1\" class=\"dataframe\">\n",
       "  <thead>\n",
       "    <tr style=\"text-align: right;\">\n",
       "      <th></th>\n",
       "      <th>Usage_kWh</th>\n",
       "      <th>Lag_CRP(kVarh)</th>\n",
       "      <th>Lead_CRP(kVarh)</th>\n",
       "      <th>CO2(tCO2)</th>\n",
       "      <th>Lag_CPF</th>\n",
       "      <th>Lead_CPF</th>\n",
       "      <th>NSM</th>\n",
       "    </tr>\n",
       "  </thead>\n",
       "  <tbody>\n",
       "    <tr>\n",
       "      <th>Usage_kWh</th>\n",
       "      <td>1.000000</td>\n",
       "      <td>0.896150</td>\n",
       "      <td>-0.324922</td>\n",
       "      <td>0.988180</td>\n",
       "      <td>0.385960</td>\n",
       "      <td>0.353566</td>\n",
       "      <td>0.234610</td>\n",
       "    </tr>\n",
       "    <tr>\n",
       "      <th>Lag_CRP(kVarh)</th>\n",
       "      <td>0.896150</td>\n",
       "      <td>1.000000</td>\n",
       "      <td>-0.405142</td>\n",
       "      <td>0.886948</td>\n",
       "      <td>0.144534</td>\n",
       "      <td>0.407716</td>\n",
       "      <td>0.082662</td>\n",
       "    </tr>\n",
       "    <tr>\n",
       "      <th>Lead_CRP(kVarh)</th>\n",
       "      <td>-0.324922</td>\n",
       "      <td>-0.405142</td>\n",
       "      <td>1.000000</td>\n",
       "      <td>-0.332777</td>\n",
       "      <td>0.526770</td>\n",
       "      <td>-0.944039</td>\n",
       "      <td>0.371605</td>\n",
       "    </tr>\n",
       "    <tr>\n",
       "      <th>CO2(tCO2)</th>\n",
       "      <td>0.988180</td>\n",
       "      <td>0.886948</td>\n",
       "      <td>-0.332777</td>\n",
       "      <td>1.000000</td>\n",
       "      <td>0.379605</td>\n",
       "      <td>0.360019</td>\n",
       "      <td>0.231726</td>\n",
       "    </tr>\n",
       "    <tr>\n",
       "      <th>Lag_CPF</th>\n",
       "      <td>0.385960</td>\n",
       "      <td>0.144534</td>\n",
       "      <td>0.526770</td>\n",
       "      <td>0.379605</td>\n",
       "      <td>1.000000</td>\n",
       "      <td>-0.519967</td>\n",
       "      <td>0.565270</td>\n",
       "    </tr>\n",
       "    <tr>\n",
       "      <th>Lead_CPF</th>\n",
       "      <td>0.353566</td>\n",
       "      <td>0.407716</td>\n",
       "      <td>-0.944039</td>\n",
       "      <td>0.360019</td>\n",
       "      <td>-0.519967</td>\n",
       "      <td>1.000000</td>\n",
       "      <td>-0.360563</td>\n",
       "    </tr>\n",
       "    <tr>\n",
       "      <th>NSM</th>\n",
       "      <td>0.234610</td>\n",
       "      <td>0.082662</td>\n",
       "      <td>0.371605</td>\n",
       "      <td>0.231726</td>\n",
       "      <td>0.565270</td>\n",
       "      <td>-0.360563</td>\n",
       "      <td>1.000000</td>\n",
       "    </tr>\n",
       "  </tbody>\n",
       "</table>\n",
       "</div>"
      ],
      "text/plain": [
       "                 Usage_kWh  Lag_CRP(kVarh)  Lead_CRP(kVarh)  CO2(tCO2)  \\\n",
       "Usage_kWh         1.000000        0.896150        -0.324922   0.988180   \n",
       "Lag_CRP(kVarh)    0.896150        1.000000        -0.405142   0.886948   \n",
       "Lead_CRP(kVarh)  -0.324922       -0.405142         1.000000  -0.332777   \n",
       "CO2(tCO2)         0.988180        0.886948        -0.332777   1.000000   \n",
       "Lag_CPF           0.385960        0.144534         0.526770   0.379605   \n",
       "Lead_CPF          0.353566        0.407716        -0.944039   0.360019   \n",
       "NSM               0.234610        0.082662         0.371605   0.231726   \n",
       "\n",
       "                  Lag_CPF  Lead_CPF       NSM  \n",
       "Usage_kWh        0.385960  0.353566  0.234610  \n",
       "Lag_CRP(kVarh)   0.144534  0.407716  0.082662  \n",
       "Lead_CRP(kVarh)  0.526770 -0.944039  0.371605  \n",
       "CO2(tCO2)        0.379605  0.360019  0.231726  \n",
       "Lag_CPF          1.000000 -0.519967  0.565270  \n",
       "Lead_CPF        -0.519967  1.000000 -0.360563  \n",
       "NSM              0.565270 -0.360563  1.000000  "
      ]
     },
     "execution_count": 36,
     "metadata": {},
     "output_type": "execute_result"
    }
   ],
   "source": [
    "# create variable to use for checking correlation\n",
    "correlation = df[['Usage_kWh','Lag_CRP(kVarh)','Lead_CRP(kVarh)','CO2(tCO2)','Lag_CPF','Lead_CPF','NSM']]\n",
    "correlation.corr()"
   ]
  },
  {
   "cell_type": "code",
   "execution_count": 37,
   "id": "bdb55353",
   "metadata": {},
   "outputs": [
    {
     "data": {
      "text/plain": [
       "Text(0.5, 1.0, 'Heatmap Showing the correlation on Energy consumption')"
      ]
     },
     "execution_count": 37,
     "metadata": {},
     "output_type": "execute_result"
    },
    {
     "data": {
      "image/png": "[encoded data removed]",
      "text/plain": [
       "<Figure size 1008x504 with 2 Axes>"
      ]
     },
     "metadata": {
      "needs_background": "light"
     },
     "output_type": "display_data"
    }
   ],
   "source": [
    "# view correlation with a heatmap\n",
    "plt.figure(figsize=(14,7))\n",
    "sns.heatmap(correlation.corr(),annot=True) # puts the values on the heatmap\n",
    "plt.title('Heatmap Showing the correlation on Energy consumption')"
   ]
  },
  {
   "cell_type": "markdown",
   "id": "c74517ba",
   "metadata": {},
   "source": [
    "* Observations -\n",
    "    * Energy Consumption (Usage_kWh) is highly correlated with Lagging_Current_Reactive.Power - 0.9\n",
    "    * Energy Consumption (Usage_kWh) is highly correlated with CO2 release - 0.99\n",
    "    * Lagging_Current_Reactive.Power is highly correlated with CO2 release -0.89\n",
    "    * Leading_Current_Reactive_Power is fairly correlated with Lagging_Current_Power_Factor - 0.53"
   ]
  },
  {
   "cell_type": "code",
   "execution_count": 38,
   "id": "3b06f885",
   "metadata": {},
   "outputs": [
    {
     "data": {
      "text/html": [
       "<div>\n",
       "<style scoped>\n",
       "    .dataframe tbody tr th:only-of-type {\n",
       "        vertical-align: middle;\n",
       "    }\n",
       "\n",
       "    .dataframe tbody tr th {\n",
       "        vertical-align: top;\n",
       "    }\n",
       "\n",
       "    .dataframe thead th {\n",
       "        text-align: right;\n",
       "    }\n",
       "</style>\n",
       "<table border=\"1\" class=\"dataframe\">\n",
       "  <thead>\n",
       "    <tr style=\"text-align: right;\">\n",
       "      <th></th>\n",
       "      <th>date</th>\n",
       "      <th>Usage_kWh</th>\n",
       "      <th>Lag_CRP(kVarh)</th>\n",
       "      <th>Lead_CRP(kVarh)</th>\n",
       "      <th>CO2(tCO2)</th>\n",
       "      <th>Lag_CPF</th>\n",
       "      <th>Lead_CPF</th>\n",
       "      <th>NSM</th>\n",
       "      <th>WeekStatus</th>\n",
       "      <th>Day_of_week</th>\n",
       "      <th>Load_Type</th>\n",
       "      <th>Year</th>\n",
       "      <th>Month</th>\n",
       "      <th>Hour</th>\n",
       "    </tr>\n",
       "  </thead>\n",
       "  <tbody>\n",
       "    <tr>\n",
       "      <th>0</th>\n",
       "      <td>2018-01-01 00:15:00</td>\n",
       "      <td>3.17</td>\n",
       "      <td>2.95</td>\n",
       "      <td>0.0</td>\n",
       "      <td>0.0</td>\n",
       "      <td>73.21</td>\n",
       "      <td>100.0</td>\n",
       "      <td>900</td>\n",
       "      <td>Weekday</td>\n",
       "      <td>Monday</td>\n",
       "      <td>Light_Load</td>\n",
       "      <td>2018</td>\n",
       "      <td>Jan</td>\n",
       "      <td>0</td>\n",
       "    </tr>\n",
       "    <tr>\n",
       "      <th>1</th>\n",
       "      <td>2018-01-01 00:30:00</td>\n",
       "      <td>4.00</td>\n",
       "      <td>4.46</td>\n",
       "      <td>0.0</td>\n",
       "      <td>0.0</td>\n",
       "      <td>66.77</td>\n",
       "      <td>100.0</td>\n",
       "      <td>1800</td>\n",
       "      <td>Weekday</td>\n",
       "      <td>Monday</td>\n",
       "      <td>Light_Load</td>\n",
       "      <td>2018</td>\n",
       "      <td>Jan</td>\n",
       "      <td>0</td>\n",
       "    </tr>\n",
       "  </tbody>\n",
       "</table>\n",
       "</div>"
      ],
      "text/plain": [
       "                 date  Usage_kWh  Lag_CRP(kVarh)  Lead_CRP(kVarh)  CO2(tCO2)  \\\n",
       "0 2018-01-01 00:15:00       3.17            2.95              0.0        0.0   \n",
       "1 2018-01-01 00:30:00       4.00            4.46              0.0        0.0   \n",
       "\n",
       "   Lag_CPF  Lead_CPF   NSM WeekStatus Day_of_week   Load_Type  Year Month  \\\n",
       "0    73.21     100.0   900    Weekday      Monday  Light_Load  2018   Jan   \n",
       "1    66.77     100.0  1800    Weekday      Monday  Light_Load  2018   Jan   \n",
       "\n",
       "   Hour  \n",
       "0     0  \n",
       "1     0  "
      ]
     },
     "execution_count": 38,
     "metadata": {},
     "output_type": "execute_result"
    }
   ],
   "source": [
    "# view dataset\n",
    "df.head(2)"
   ]
  },
  {
   "cell_type": "markdown",
   "id": "1ade5a96",
   "metadata": {},
   "source": [
    "### What is the Energy Consumption on Month, Days of the Week."
   ]
  },
  {
   "cell_type": "code",
   "execution_count": 39,
   "id": "805da3fd",
   "metadata": {
    "scrolled": false
   },
   "outputs": [
    {
     "data": {
      "text/plain": [
       "Text(0.5, 1.0, 'Heatmap Showing Energy Consumption on Month, Days of the Week')"
      ]
     },
     "execution_count": 39,
     "metadata": {},
     "output_type": "execute_result"
    },
    {
     "data": {
      "image/png": "[encoded data removed]",
      "text/plain": [
       "<Figure size 1008x504 with 2 Axes>"
      ]
     },
     "metadata": {
      "needs_background": "light"
     },
     "output_type": "display_data"
    }
   ],
   "source": [
    "# plot heatmap to show days which energy consumption is high\n",
    "plt.figure(figsize=(14,7))\n",
    "x = df.pivot_table(values='Usage_kWh', index='Day_of_week', columns='Month')\n",
    "sns.heatmap(x, annot=True) #Day_of_week\n",
    "plt.title('Heatmap Showing Energy Consumption on Month, Days of the Week')"
   ]
  },
  {
   "cell_type": "markdown",
   "id": "1169fcad",
   "metadata": {},
   "source": [
    "* Observations -\n",
    "    * Energy consumption is higher in January on Days - Thursday and Friday"
   ]
  },
  {
   "cell_type": "code",
   "execution_count": 40,
   "id": "e27406c2",
   "metadata": {},
   "outputs": [
    {
     "data": {
      "text/html": [
       "<div>\n",
       "<style scoped>\n",
       "    .dataframe tbody tr th:only-of-type {\n",
       "        vertical-align: middle;\n",
       "    }\n",
       "\n",
       "    .dataframe tbody tr th {\n",
       "        vertical-align: top;\n",
       "    }\n",
       "\n",
       "    .dataframe thead th {\n",
       "        text-align: right;\n",
       "    }\n",
       "</style>\n",
       "<table border=\"1\" class=\"dataframe\">\n",
       "  <thead>\n",
       "    <tr style=\"text-align: right;\">\n",
       "      <th></th>\n",
       "      <th>date</th>\n",
       "      <th>Usage_kWh</th>\n",
       "      <th>Lag_CRP(kVarh)</th>\n",
       "      <th>Lead_CRP(kVarh)</th>\n",
       "      <th>CO2(tCO2)</th>\n",
       "      <th>Lag_CPF</th>\n",
       "      <th>Lead_CPF</th>\n",
       "      <th>NSM</th>\n",
       "      <th>WeekStatus</th>\n",
       "      <th>Day_of_week</th>\n",
       "      <th>Load_Type</th>\n",
       "      <th>Year</th>\n",
       "      <th>Month</th>\n",
       "      <th>Hour</th>\n",
       "    </tr>\n",
       "  </thead>\n",
       "  <tbody>\n",
       "    <tr>\n",
       "      <th>0</th>\n",
       "      <td>2018-01-01 00:15:00</td>\n",
       "      <td>3.17</td>\n",
       "      <td>2.95</td>\n",
       "      <td>0.0</td>\n",
       "      <td>0.0</td>\n",
       "      <td>73.21</td>\n",
       "      <td>100.0</td>\n",
       "      <td>900</td>\n",
       "      <td>Weekday</td>\n",
       "      <td>Monday</td>\n",
       "      <td>Light_Load</td>\n",
       "      <td>2018</td>\n",
       "      <td>Jan</td>\n",
       "      <td>0</td>\n",
       "    </tr>\n",
       "    <tr>\n",
       "      <th>1</th>\n",
       "      <td>2018-01-01 00:30:00</td>\n",
       "      <td>4.00</td>\n",
       "      <td>4.46</td>\n",
       "      <td>0.0</td>\n",
       "      <td>0.0</td>\n",
       "      <td>66.77</td>\n",
       "      <td>100.0</td>\n",
       "      <td>1800</td>\n",
       "      <td>Weekday</td>\n",
       "      <td>Monday</td>\n",
       "      <td>Light_Load</td>\n",
       "      <td>2018</td>\n",
       "      <td>Jan</td>\n",
       "      <td>0</td>\n",
       "    </tr>\n",
       "  </tbody>\n",
       "</table>\n",
       "</div>"
      ],
      "text/plain": [
       "                 date  Usage_kWh  Lag_CRP(kVarh)  Lead_CRP(kVarh)  CO2(tCO2)  \\\n",
       "0 2018-01-01 00:15:00       3.17            2.95              0.0        0.0   \n",
       "1 2018-01-01 00:30:00       4.00            4.46              0.0        0.0   \n",
       "\n",
       "   Lag_CPF  Lead_CPF   NSM WeekStatus Day_of_week   Load_Type  Year Month  \\\n",
       "0    73.21     100.0   900    Weekday      Monday  Light_Load  2018   Jan   \n",
       "1    66.77     100.0  1800    Weekday      Monday  Light_Load  2018   Jan   \n",
       "\n",
       "   Hour  \n",
       "0     0  \n",
       "1     0  "
      ]
     },
     "execution_count": 40,
     "metadata": {},
     "output_type": "execute_result"
    }
   ],
   "source": [
    "# view dataset\n",
    "df.head(2)"
   ]
  },
  {
   "cell_type": "markdown",
   "id": "1c35004d",
   "metadata": {},
   "source": [
    "### Scatterplot to show loadtypes release of CO2 during energy consumption"
   ]
  },
  {
   "cell_type": "code",
   "execution_count": 41,
   "id": "d4da81a2",
   "metadata": {},
   "outputs": [
    {
     "data": {
      "text/plain": [
       "Text(0.5, 1.0, 'Scatterplot showing Load_Types release of CO2 during energy consumption')"
      ]
     },
     "execution_count": 41,
     "metadata": {},
     "output_type": "execute_result"
    },
    {
     "data": {
      "image/png": "[encoded data removed]",
      "text/plain": [
       "<Figure size 720x360 with 1 Axes>"
      ]
     },
     "metadata": {
      "needs_background": "light"
     },
     "output_type": "display_data"
    }
   ],
   "source": [
    "# plot graph\n",
    "plt.figure(figsize=(10,5)) # set size of graph\n",
    "sns.scatterplot(x = 'Usage_kWh', y = 'CO2(tCO2)', hue = 'Load_Type', data = df,\n",
    "                hue_order = ['Light_Load', 'Maximum_Load', 'Medium_Load'])\n",
    "plt.title('Scatterplot showing Load_Types release of CO2 during energy consumption')"
   ]
  },
  {
   "cell_type": "markdown",
   "id": "6b61a1e0",
   "metadata": {},
   "source": [
    "* Observation -\n",
    "    * As the usage of energy increases so does the amount of CO2 being released.\n",
    "    * Maximum load is the load type with color green, that releases the most CO2."
   ]
  },
  {
   "cell_type": "markdown",
   "id": "0072d079",
   "metadata": {},
   "source": [
    "### Density plot for loadtypes energy consumption"
   ]
  },
  {
   "cell_type": "code",
   "execution_count": 42,
   "id": "e465fb31",
   "metadata": {
    "scrolled": false
   },
   "outputs": [
    {
     "data": {
      "text/plain": [
       "Text(0.5, 1.0, 'Plot Showing Load_Types energy consumption density')"
      ]
     },
     "execution_count": 42,
     "metadata": {},
     "output_type": "execute_result"
    },
    {
     "data": {
      "image/png": "[encoded data removed]",
      "text/plain": [
       "<Figure size 720x360 with 1 Axes>"
      ]
     },
     "metadata": {
      "needs_background": "light"
     },
     "output_type": "display_data"
    }
   ],
   "source": [
    "# plot graph\n",
    "plt.figure(figsize=(10,5)) # set size of graph\n",
    "sns.kdeplot(data=df, x = 'Usage_kWh', hue = 'Load_Type', hue_order = ['Light_Load', 'Maximum_Load', 'Medium_Load'])\n",
    "plt.title('Plot Showing Load_Types energy consumption density')"
   ]
  },
  {
   "cell_type": "markdown",
   "id": "113aebcb",
   "metadata": {},
   "source": [
    "* Observation - \n",
    "    * The density of light load for energy consumption is higher, followed by maximum load and then medium load."
   ]
  },
  {
   "cell_type": "code",
   "execution_count": null,
   "id": "fc84c666",
   "metadata": {},
   "outputs": [],
   "source": []
  }
 ],
 "metadata": {
  "hide_input": false,
  "kernelspec": {
   "display_name": "Python 3 (ipykernel)",
   "language": "python",
   "name": "python3"
  },
  "language_info": {
   "codemirror_mode": {
    "name": "ipython",
    "version": 3
   },
   "file_extension": ".py",
   "mimetype": "text/x-python",
   "name": "python",
   "nbconvert_exporter": "python",
   "pygments_lexer": "ipython3",
   "version": "3.9.12"
  },
  "toc": {
   "base_numbering": 1,
   "nav_menu": {},
   "number_sections": true,
   "sideBar": true,
   "skip_h1_title": false,
   "title_cell": "Table of Contents",
   "title_sidebar": "Contents",
   "toc_cell": false,
   "toc_position": {
    "height": "calc(100% - 180px)",
    "left": "10px",
    "top": "150px",
    "width": "273.188px"
   },
   "toc_section_display": true,
   "toc_window_display": false
  }
 },
 "nbformat": 4,
 "nbformat_minor": 5
}
